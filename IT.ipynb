{
 "cells": [
  {
   "cell_type": "markdown",
   "id": "424f890a",
   "metadata": {},
   "source": [
    "<h1>1 задание:</h1>"
   ]
  },
  {
   "cell_type": "code",
   "execution_count": 5,
   "id": "09379aee",
   "metadata": {},
   "outputs": [
    {
     "name": "stdout",
     "output_type": "stream",
     "text": [
      "I love Tesh just the way she is.\n"
     ]
    }
   ],
   "source": [
    "str1 = \"Tesh3 th5e 1I lov2e way6 she7 j4ust i8s.\"\n",
    "def is_number(n):\n",
    "    try:\n",
    "        float(n)\n",
    "        return True\n",
    "    except ValueError:\n",
    "        return False\n",
    "\n",
    "b = dict()\n",
    "for str in list(str1.split()):\n",
    "    a = ''\n",
    "    for i in range(len(str)):\n",
    "        if not is_number(str[i]):\n",
    "            a+=str[i]\n",
    "        else:\n",
    "            num = str[i]   \n",
    "    b[num]=a\n",
    "res = sorted(b.items(), key = lambda x:x[0])\n",
    "a =[]\n",
    "for item in res:\n",
    "    a.append(item[1])\n",
    "print(\" \".join(a))\n",
    "    #print(re.sub(r'[^\\w\\s]+|[\\d]+', r'',c).strip(), end=' ')\n",
    "\n"
   ]
  },
  {
   "cell_type": "markdown",
   "id": "f332605b",
   "metadata": {},
   "source": [
    "<h1>2 задание:</h1>"
   ]
  },
  {
   "cell_type": "code",
   "execution_count": 6,
   "id": "a9ed641d",
   "metadata": {},
   "outputs": [
    {
     "name": "stdout",
     "output_type": "stream",
     "text": [
      "False\n"
     ]
    }
   ],
   "source": [
    "def be_or_not_to_be(x,y,z,a,b):\n",
    "    return (x<=a and y<=b) or (x<=a and z<=b) or (y<=a and z<=b) or (y<=a and x<=b) or (z<=a and x<=b) or (z<=a and y<=b) \n",
    "print(be_or_not_to_be(1,2,2,1,1))"
   ]
  },
  {
   "cell_type": "markdown",
   "id": "276c4d07",
   "metadata": {},
   "source": [
    "<h1>3 задание:</h1>\n",
    "1 решение: через алгоритм Дейкстры(проблема - писать матрицу 33х33)<br>\n",
    "2 решение: через полрную систему координат(проблема в реализации)<br>\n",
    "3 решение: от мухи к пауку сделать отрезок, по ближайшей точке от отрезка будет идти паук(проблема в реализации)<br> \n",
    "4 решение: разделить паутину на сегменты, попробовать так решить(проблема в реализации и идеи)<br>\n",
    "5 решение: смотреть расположение мухи относительно паука и выбирать 3 случая его пути<br>"
   ]
  },
  {
   "cell_type": "markdown",
   "id": "ac65f20d",
   "metadata": {},
   "source": [
    "<h1>3 задание:</h1>\n",
    "(не рабочие):<br>"
   ]
  },
  {
   "cell_type": "code",
   "execution_count": 19,
   "id": "5f7e5ebe",
   "metadata": {},
   "outputs": [
    {
     "name": "stdout",
     "output_type": "stream",
     "text": [
      "{'H2': 0, 'H1': 1, 'A1': 1.6, 'G1': 1.6, 'A0': 2, 'B1': 2.2, 'F1': 2.2, 'A2': 2.3, 'G2': 2.3, 'C1': 2.8000000000000003, 'E1': 2.8000000000000003, 'D1': 3, 'B2': 3.2, 'F2': 3.2, 'C2': 3.8000000000000003, 'E2': 3.8000000000000003, 'D2': 4}\n"
     ]
    }
   ],
   "source": [
    "nodes = ('A0', 'A1', 'B1', 'C1', 'D1', 'E1', 'F1', 'G1', 'H1',\n",
    "        'A2', 'B2', 'C2', 'D2', 'E2', 'F2', 'G2', 'H2',\n",
    "         'A3', 'B3', 'C3', 'D3', 'E3', 'F3', 'G3', 'H3',\n",
    "         'A4', 'B4', 'C4', 'D4', 'E4', 'F4', 'G4', 'H4',\n",
    "        )\n",
    "distances = {\n",
    "'A0': {'A1': 1, 'B1': 1, 'C1': 1, 'D1': 1, 'E1': 1, 'F1': 1, 'G1': 1, 'H1': 1,},\n",
    "'A1': {'A0': 1, 'B1': 0.6, 'H1': 0.6, 'A2': 1},\n",
    "'B1': {'A0': 1, 'C1': 0.6, 'A1': 0.6, 'B2': 1},\n",
    "'C1': {'A0': 1, 'D1': 0.6, 'B1': 0.6, 'C2': 1},\n",
    "'D1': {'A0': 1, 'E1': 0.6, 'C1': 0.6, 'D2': 1},\n",
    "'E1': {'A0': 1, 'F1': 0.6, 'D1': 0.6, 'E2': 1},\n",
    "'F1': {'A0': 1, 'G1': 0.6, 'E1': 0.6, 'F2': 1},\n",
    "'G1': {'A0': 1, 'H1': 0.6, 'F1': 0.6, 'G2': 1},\n",
    "'H1': {'A0': 1, 'A1': 0.6, 'G1': 0.6, 'H2': 1},\n",
    "'A2': {'A1': 1, 'B2': 2.3, 'H2': 2.3, 'A3': 1},\n",
    "'B2': {'B1': 1, 'C2': 2.3, 'A2': 2.3, 'B3': 1},\n",
    "'C2': {'C1': 1, 'D2': 2.3, 'B2': 2.3, 'C3': 1},\n",
    "'D2': {'D1': 1, 'E2': 2.3, 'C2': 2.3, 'D3': 1},\n",
    "'E2': {'E1': 1, 'F2': 2.3, 'D2': 2.3, 'E3': 1},\n",
    "'F2': {'F1': 1, 'G2': 2.3, 'E2': 2.3, 'F3': 1},\n",
    "'G2': {'G1': 1, 'H2': 2.3, 'F2': 2.3, 'G3': 1},\n",
    "'H2': {'H1': 1, 'A2': 2.3, 'G2': 2.3, 'H3': 1},\n",
    "}\n",
    "\n",
    "unvisited = {node: float('inf') for node in nodes}\n",
    "visited = {}\n",
    "current = 'H2'\n",
    "currentDistance = 0\n",
    "unvisited[current] = currentDistance\n",
    "\n",
    "while True:\n",
    "    for neighbour, distance in distances[current].items():\n",
    "        if neighbour not in unvisited: continue\n",
    "        newDistance = currentDistance + distance\n",
    "        if unvisited[neighbour] is float('inf') or unvisited[neighbour] > newDistance:\n",
    "            unvisited[neighbour] = newDistance\n",
    "    visited[current] = currentDistance\n",
    "    del unvisited[current]\n",
    "    if not unvisited: break\n",
    "    candidates = [node for node in unvisited.items() if node[1]]\n",
    "    current, currentDistance = sorted(candidates, key = lambda x: x[1])[0]\n",
    "\n",
    "print(visited)"
   ]
  },
  {
   "cell_type": "code",
   "execution_count": 94,
   "id": "9fb38d3d",
   "metadata": {},
   "outputs": [
    {
     "ename": "AttributeError",
     "evalue": "'tuple' object has no attribute 'items'",
     "output_type": "error",
     "traceback": [
      "\u001b[1;31m---------------------------------------------------------------------------\u001b[0m",
      "\u001b[1;31mAttributeError\u001b[0m                            Traceback (most recent call last)",
      "\u001b[1;32m<ipython-input-94-45b47738d9a4>\u001b[0m in \u001b[0;36m<module>\u001b[1;34m\u001b[0m\n\u001b[0;32m    119\u001b[0m     \u001b[0mprint\u001b[0m\u001b[1;33m(\u001b[0m\u001b[0mshortest_path\u001b[0m\u001b[1;33m)\u001b[0m\u001b[1;33m\u001b[0m\u001b[1;33m\u001b[0m\u001b[0m\n\u001b[0;32m    120\u001b[0m \u001b[1;33m\u001b[0m\u001b[0m\n\u001b[1;32m--> 121\u001b[1;33m \u001b[0mdijkstra\u001b[0m\u001b[1;33m(\u001b[0m\u001b[1;33m)\u001b[0m\u001b[1;33m\u001b[0m\u001b[1;33m\u001b[0m\u001b[0m\n\u001b[0m",
      "\u001b[1;32m<ipython-input-94-45b47738d9a4>\u001b[0m in \u001b[0;36mdijkstra\u001b[1;34m()\u001b[0m\n\u001b[0;32m    104\u001b[0m \u001b[1;33m\u001b[0m\u001b[0m\n\u001b[0;32m    105\u001b[0m \u001b[1;32mdef\u001b[0m \u001b[0mdijkstra\u001b[0m\u001b[1;33m(\u001b[0m\u001b[1;33m)\u001b[0m\u001b[1;33m:\u001b[0m\u001b[1;33m\u001b[0m\u001b[1;33m\u001b[0m\u001b[0m\n\u001b[1;32m--> 106\u001b[1;33m     \u001b[0mnode\u001b[0m \u001b[1;33m=\u001b[0m \u001b[0mfind_lowest_cost_node\u001b[0m\u001b[1;33m(\u001b[0m\u001b[0mcosts\u001b[0m\u001b[1;33m)\u001b[0m\u001b[1;33m\u001b[0m\u001b[1;33m\u001b[0m\u001b[0m\n\u001b[0m\u001b[0;32m    107\u001b[0m     \u001b[1;32mwhile\u001b[0m \u001b[0mnode\u001b[0m \u001b[1;32mis\u001b[0m \u001b[1;32mnot\u001b[0m \u001b[1;32mNone\u001b[0m\u001b[1;33m:\u001b[0m\u001b[1;33m\u001b[0m\u001b[1;33m\u001b[0m\u001b[0m\n\u001b[0;32m    108\u001b[0m         \u001b[0mcost\u001b[0m \u001b[1;33m=\u001b[0m \u001b[0mcosts\u001b[0m\u001b[1;33m[\u001b[0m\u001b[0mnode\u001b[0m\u001b[1;33m]\u001b[0m\u001b[1;33m\u001b[0m\u001b[1;33m\u001b[0m\u001b[0m\n",
      "\u001b[1;32m<ipython-input-94-45b47738d9a4>\u001b[0m in \u001b[0;36mfind_lowest_cost_node\u001b[1;34m(costs)\u001b[0m\n\u001b[0;32m     88\u001b[0m     \u001b[1;32mfor\u001b[0m \u001b[0mnode\u001b[0m \u001b[1;32min\u001b[0m \u001b[0mcosts\u001b[0m\u001b[1;33m.\u001b[0m\u001b[0mitems\u001b[0m\u001b[1;33m(\u001b[0m\u001b[1;33m)\u001b[0m\u001b[1;33m:\u001b[0m\u001b[1;33m\u001b[0m\u001b[1;33m\u001b[0m\u001b[0m\n\u001b[0;32m     89\u001b[0m         \u001b[1;32mif\u001b[0m \u001b[1;32mnot\u001b[0m \u001b[0mnode\u001b[0m \u001b[1;32min\u001b[0m \u001b[0mprocessed\u001b[0m\u001b[1;33m:\u001b[0m\u001b[1;33m\u001b[0m\u001b[1;33m\u001b[0m\u001b[0m\n\u001b[1;32m---> 90\u001b[1;33m              \u001b[1;32mfor\u001b[0m \u001b[0mk\u001b[0m \u001b[1;32min\u001b[0m \u001b[0mnode\u001b[0m\u001b[1;33m.\u001b[0m\u001b[0mitems\u001b[0m\u001b[1;33m(\u001b[0m\u001b[1;33m)\u001b[0m\u001b[1;33m:\u001b[0m\u001b[1;33m\u001b[0m\u001b[1;33m\u001b[0m\u001b[0m\n\u001b[0m\u001b[0;32m     91\u001b[0m                 \u001b[1;32mif\u001b[0m \u001b[0mnode\u001b[0m\u001b[1;33m[\u001b[0m\u001b[0mi\u001b[0m\u001b[1;33m]\u001b[0m\u001b[1;33m.\u001b[0m\u001b[0mitems\u001b[0m\u001b[1;33m(\u001b[0m\u001b[1;33m)\u001b[0m \u001b[1;33m<\u001b[0m \u001b[0mlowest_cost\u001b[0m\u001b[1;33m:\u001b[0m\u001b[1;33m\u001b[0m\u001b[1;33m\u001b[0m\u001b[0m\n\u001b[0;32m     92\u001b[0m                     \u001b[0mlowest_cost\u001b[0m \u001b[1;33m=\u001b[0m \u001b[0mnode\u001b[0m\u001b[1;33m[\u001b[0m\u001b[0mi\u001b[0m\u001b[1;33m]\u001b[0m\u001b[1;33m.\u001b[0m\u001b[0mitems\u001b[0m\u001b[1;33m(\u001b[0m\u001b[1;33m)\u001b[0m\u001b[1;33m\u001b[0m\u001b[1;33m\u001b[0m\u001b[0m\n",
      "\u001b[1;31mAttributeError\u001b[0m: 'tuple' object has no attribute 'items'"
     ]
    }
   ],
   "source": [
    "infinity = float(\"inf\")\n",
    "graph = ('A0', 'A1', 'B1', 'C1', 'D1', 'E1', 'F1', 'G1', 'H1',\n",
    "         'A2', 'B2', 'C2', 'D2', 'E2', 'F2', 'G2', 'H2',\n",
    "         'A3', 'B3', 'C3', 'D3', 'E3', 'F3', 'G3', 'H3',\n",
    "         'A4', 'B4', 'C4', 'D4', 'E4', 'F4', 'G4', 'H4',\n",
    "        )\n",
    "costs = {\n",
    "'A0': {'A1': 1, 'B1': 1, 'C1': 1, 'D1': 1, 'E1': 1, 'F1': 1, 'G1': 1, 'H1': 1,},\n",
    "'A1': {'A0': 1, 'B1': 0.6, 'H1': 0.6, 'A2': 1},\n",
    "'B1': {'A0': 1, 'C1': 0.6, 'A1': 0.6, 'B2': 1},\n",
    "'C1': {'A0': 1, 'D1': 0.6, 'B1': 0.6, 'C2': 1},\n",
    "'D1': {'A0': 1, 'E1': 0.6, 'C1': 0.6, 'D2': 1},\n",
    "'E1': {'A0': 1, 'F1': 0.6, 'D1': 0.6, 'E2': 1},\n",
    "'F1': {'A0': 1, 'G1': 0.6, 'E1': 0.6, 'F2': 1},\n",
    "'G1': {'A0': 1, 'H1': 0.6, 'F1': 0.6, 'G2': 1},\n",
    "'H1': {'A0': 1, 'A1': 0.6, 'G1': 0.6, 'H2': 1},\n",
    "'A2': {'A1': 1, 'B2': 2.3, 'H2': 2.3, 'A3': 1},\n",
    "'B2': {'B1': 1, 'C2': 2.3, 'A2': 2.3, 'B3': 1},\n",
    "'C2': {'C1': 1, 'D2': 2.3, 'B2': 2.3, 'C3': 1},\n",
    "'D2': {'D1': 1, 'E2': 2.3, 'C2': 2.3, 'D3': 1},\n",
    "'E2': {'E1': 1, 'F2': 2.3, 'D2': 2.3, 'E3': 1},\n",
    "'F2': {'F1': 1, 'G2': 2.3, 'E2': 2.3, 'F3': 1},\n",
    "'G2': {'G1': 1, 'H2': 2.3, 'F2': 2.3, 'G3': 1},\n",
    "'H2': {'H1': 1, 'A2': 2.3, 'G2': 2.3, 'H3': 1},\n",
    "'A3': {'A2': 1, 'B3': 5.3, 'H3': 5.3, 'A4': 1},\n",
    "'B3': {'B2': 1, 'C3': 5.3, 'A3': 5.3, 'B4': 1},\n",
    "'C3': {'C2': 1, 'D3': 5.3, 'B3': 5.3, 'C4': 1},\n",
    "'D3': {'D2': 1, 'E3': 5.3, 'C3': 5.3, 'D4': 1},\n",
    "'E3': {'E2': 1, 'F3': 5.3, 'D3': 5.3, 'E4': 1},\n",
    "'F3': {'F2': 1, 'G3': 5.3, 'E3': 5.3, 'F4': 1},\n",
    "'G3': {'G2': 1, 'H3': 5.3, 'F3': 5.3, 'G4': 1},\n",
    "'H3': {'H2': 1, 'A3': 5.3, 'G3': 5.3, 'H4': 1},\n",
    "'A4': {'A3': 1, 'B4': 9.4, 'H4': 9.4},\n",
    "'B4': {'B3': 1, 'C4': 9.4, 'A4': 9.4},\n",
    "'C4': {'C3': 1, 'D4': 9.4, 'B4': 9.4},\n",
    "'D4': {'D3': 1, 'E4': 9.4, 'C4': 9.4},\n",
    "'E4': {'E3': 1, 'F4': 9.4, 'D4': 9.4},\n",
    "'F4': {'F3': 1, 'G4': 9.4, 'E4': 9.4},\n",
    "'G4': {'G3': 1, 'H4': 9.4, 'F4': 9.4},\n",
    "'H4': {'H3': 1, 'A4': 9.4, 'G4': 9.4},\n",
    "}\n",
    " \n",
    "\n",
    "parents = {\n",
    "'A0': {'A1', 'B1', 'C1', 'D1', 'E1', 'F1', 'G1', 'H1'},\n",
    "'A1': {'A0', 'B1', 'H1', 'A2'},\n",
    "'B1': {'A0', 'C1', 'A1', 'B2'},\n",
    "'C1': {'A0', 'D1', 'B1', 'C2'},\n",
    "'D1': {'A0', 'E1', 'C1', 'D2'},\n",
    "'E1': {'A0', 'F1', 'D1', 'E2'},\n",
    "'F1': {'A0', 'G1', 'E1', 'F2'},\n",
    "'G1': {'A0', 'H1', 'F1', 'G2'},\n",
    "'H1': {'A0', 'A1', 'G1', 'H2'},\n",
    "'A2': {'A1', 'B2', 'H2', 'A3'},\n",
    "'B2': {'B1', 'C2', 'A2', 'B3'},\n",
    "'C2': {'C1', 'D2', 'B2', 'C3'},\n",
    "'D2': {'D1', 'E2', 'C2', 'D3'},\n",
    "'E2': {'E1', 'F2', 'D2', 'E3'},\n",
    "'F2': {'F1', 'G2', 'E2', 'F3'},\n",
    "'G2': {'G1', 'H2', 'F2', 'G3'},\n",
    "'H2': {'H1', 'A2', 'G2', 'H3'},\n",
    "'A3': {'A2', 'B3', 'H3', 'A4'},\n",
    "'B3': {'B2', 'C3', 'A3', 'B4'},\n",
    "'C3': {'C2', 'D3', 'B3', 'C4'},\n",
    "'D3': {'D2', 'E3', 'C3', 'D4'},\n",
    "'E3': {'E2', 'F3', 'D3', 'E4'},\n",
    "'F3': {'F2', 'G3', 'E3', 'F4'},\n",
    "'G3': {'G2', 'H3', 'F3', 'G4'},\n",
    "'H3': {'H2', 'A3', 'G3', 'H4'},\n",
    "'A4': {'A3', 'B4', 'H4'},\n",
    "'B4': {'B3', 'C4', 'A4'},\n",
    "'C4': {'C3', 'D4', 'B4'},\n",
    "'D4': {'D3', 'E4', 'C4'},\n",
    "'E4': {'E3', 'F4', 'D4'},\n",
    "'F4': {'F3', 'G4', 'E4'},\n",
    "'G4': {'G3', 'H4', 'F4'},\n",
    "'H4': {'H3', 'A4', 'G4'},\n",
    "}\n",
    "\n",
    " \n",
    "\n",
    "processed = []\n",
    " \n",
    "\n",
    "def find_lowest_cost_node(costs):\n",
    "    lowest_cost = infinity\n",
    "    lowest_cost_node = None\n",
    "    for node in costs.items():\n",
    "        if not node in processed:\n",
    "             for k in node.items():\n",
    "                if node[i].items() < lowest_cost:\n",
    "                    lowest_cost = node[i].items()\n",
    "                    lowest_cost_node = node[i].keys()\n",
    "    return lowest_cost_node\n",
    "\n",
    "def find_shortest_path():\n",
    "    node = \"end\"\n",
    "    shortest_path = [\"end\"]\n",
    "    while parents[node] != \"start\":\n",
    "        shortest_path.append(parents[node])\n",
    "        node = parents[node]\n",
    "    shortest_path.append(\"start\")\n",
    "    return shortest_path\n",
    "\n",
    "def dijkstra():\n",
    "    node = find_lowest_cost_node(costs)\n",
    "    while node is not None:\n",
    "        cost = costs[node]\n",
    "        neighbors = list(parents.keys())\n",
    "        for n in neighbors :\n",
    "            new_cost = cost[n] + costs[node][n]\n",
    "            if new_cost < cost[n]:\n",
    "                costs[n] = new_cost\n",
    "                parents[n] = node\n",
    "        processed.append(node)\n",
    "        node = find_lowest_cost_node(costs)\n",
    "    shortest_path = find_shortest_path()\n",
    "    shortest_path.reverse()\n",
    "    print(shortest_path) \n",
    "\n",
    "dijkstra()\n"
   ]
  },
  {
   "cell_type": "markdown",
   "id": "edf4d20f",
   "metadata": {},
   "source": [
    "(рабочая):"
   ]
  },
  {
   "cell_type": "code",
   "execution_count": 91,
   "id": "342b30e4",
   "metadata": {},
   "outputs": [
    {
     "data": {
      "text/plain": [
       "'H4-H3-H2-H1-A0-E1-E2'"
      ]
     },
     "execution_count": 91,
     "metadata": {},
     "output_type": "execute_result"
    }
   ],
   "source": [
    "graph = {\n",
    "    'A0': {'A1': 1, 'B1': 1, 'C1': 1, 'D1': 1, 'E1': 1, 'F1': 1, 'G1': 1, 'H1': 1,},\n",
    "    'A1': {'A0': 1, 'A2': 1, 'B1': 0.8, 'H1': 0.8},\n",
    "    'B1': {'A0': 1, 'B2': 1, 'A1': 0.8, 'C1': 0.8},\n",
    "    'C1': {'A0': 1, 'C2': 1, 'B1': 0.8, 'D1': 0.8},\n",
    "    'D1': {'A0': 1, 'D2': 1, 'E1': 0.8, 'C1': 0.8},\n",
    "    'E1': {'A0': 1, 'E2': 1, 'D1': 0.8, 'F1': 0.8},\n",
    "    'F1': {'A0': 1, 'F2': 1, 'E1': 0.8, 'G1': 0.8},\n",
    "    'G1': {'A0': 1, 'G2': 1, 'F1': 0.8, 'H1': 0.8},\n",
    "    'H1': {'A0': 1, 'H2': 1, 'G1': 0.8, 'A1': 1.5},\n",
    "    'A2': {'A1': 1, 'A3': 1, 'B2': 1.5, 'H2': 1.5},\n",
    "    'B2': {'B1': 1, 'B3': 1, 'A2': 1.5, 'C2': 1.5},\n",
    "    'C2': {'C1': 1, 'C3': 1, 'B2': 1.5, 'D2': 1.5},\n",
    "    'D2': {'D1': 1, 'D3': 1, 'E2': 1.5, 'C2': 1.5},\n",
    "    'E2': {'E1': 1, 'E3': 1, 'D2': 1.5, 'F2': 1.5},\n",
    "    'F2': {'F1': 1, 'F3': 1, 'E2': 1.5, 'G2': 1.5},\n",
    "    'G2': {'G1': 1, 'G3': 1, 'F2': 1.5, 'H2': 1.5},\n",
    "    'H2': {'H1': 1, 'H3': 1, 'G2': 1.5, 'A2': 1.5},\n",
    "    'A3': {'A2': 1, 'A4': 1, 'B3': 2.3, 'H3': 2.3},\n",
    "    'B3': {'B2': 1, 'B4': 1, 'A3': 2.3, 'C3': 2.3},\n",
    "    'C3': {'C2': 1, 'C4': 1, 'B3': 2.3, 'D3': 2.3},\n",
    "    'D3': {'D2': 1, 'D4': 1, 'E3': 2.3, 'C3': 2.3},\n",
    "    'E3': {'E2': 1, 'E4': 1, 'D3': 2.3, 'F3': 2.3},\n",
    "    'F3': {'F2': 1, 'F4': 1, 'E3': 2.3, 'G3': 2.3},\n",
    "    'G3': {'G2': 1, 'G4': 1, 'F3': 2.3, 'H3': 2.3},\n",
    "    'H3': {'H2': 1, 'H4': 1, 'G3': 2.3, 'A3': 2.3},\n",
    "    'A4': {'A3': 1, 'B4': 3.1, 'H4': 3.1},\n",
    "    'B4': {'B3': 1, 'A4': 3.1, 'C4': 3.1},\n",
    "    'C4': {'C3': 1, 'B4': 3.1, 'D4': 3.1},\n",
    "    'D4': {'D3': 1, 'E4': 3.1, 'C4': 3.1},\n",
    "    'E4': {'E3': 1, 'D4': 3.1, 'F4': 3.1},\n",
    "    'F4': {'F3': 1, 'E4': 3.1, 'G4': 3.1},\n",
    "    'G4': {'G3': 1, 'F4': 3.1, 'H4': 3.1},\n",
    "    'H4': {'H3': 1, 'G4': 3.1, 'A4': 3.1}}\n",
    "\n",
    "def spiderVsFly(start, end):\n",
    "    \n",
    "    nodes_to_visit = {start}\n",
    "    visited_nodes = set()\n",
    "    distance_from_start = {start: 0}\n",
    "\n",
    "    tentative_parents = {}\n",
    "\n",
    "    while nodes_to_visit:\n",
    "        current = min([(distance_from_start[node], node) for node in nodes_to_visit])[1]\n",
    "        \n",
    "        if current == end:\n",
    "            break\n",
    "\n",
    "        nodes_to_visit.discard(current)\n",
    "        visited_nodes.add(current)\n",
    "\n",
    "        edges = graph[current]\n",
    "        unvisited_neighbours = set(edges).difference(visited_nodes)\n",
    "        for neighbour in unvisited_neighbours:\n",
    "            neighbour_distance = distance_from_start[current] + edges[neighbour]\n",
    "            if neighbour_distance < distance_from_start.get(neighbour,float('inf')):\n",
    "                distance_from_start[neighbour] = neighbour_distance\n",
    "                tentative_parents[neighbour] = current\n",
    "                nodes_to_visit.add(neighbour)\n",
    "    \n",
    "    cursor = end\n",
    "    path = []\n",
    "    while cursor:\n",
    "        path.append(cursor)\n",
    "        cursor = tentative_parents.get(cursor)\n",
    "    return \"-\".join(list(reversed(path)))\n",
    "\n",
    "spiderVsFly('H4', 'E2')"
   ]
  },
  {
   "cell_type": "markdown",
   "id": "55776f59",
   "metadata": {},
   "source": [
    "<h1>О себе:</h1>\n",
    "Участник заключительного этапа ВсеРос-а<br>\n",
    "Программировал на Python<br>"
   ]
  }
 ],
 "metadata": {
  "kernelspec": {
   "display_name": "Python 3",
   "language": "python",
   "name": "python3"
  },
  "language_info": {
   "codemirror_mode": {
    "name": "ipython",
    "version": 3
   },
   "file_extension": ".py",
   "mimetype": "text/x-python",
   "name": "python",
   "nbconvert_exporter": "python",
   "pygments_lexer": "ipython3",
   "version": "3.8.8"
  }
 },
 "nbformat": 4,
 "nbformat_minor": 5
}
